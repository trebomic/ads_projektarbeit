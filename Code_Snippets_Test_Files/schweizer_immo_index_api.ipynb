{
 "cells": [
  {
   "cell_type": "code",
   "execution_count": 14,
   "metadata": {},
   "outputs": [
    {
     "name": "stdout",
     "output_type": "stream",
     "text": [
      "Data url:     https://data.bl.ch/api/v2/catalog/datasets/10210/exports/csv\n",
      "Data format:  CSV\n"
     ]
    }
   ],
   "source": [
    "import pprint\n",
    "import requests     # 2.18.4\n",
    "import json         # 2.0.9\n",
    "import pandas as pd # 0.23.0\n",
    "\n",
    "# Package list of the Swiss open data portal\n",
    "packages = 'https://opendata.swiss/api/3/action/package_list'\n",
    "\n",
    "# Make the HTTP request\n",
    "response = requests.get(packages)\n",
    "\n",
    "# Use the json module to load CKAN's response into a dictionary\n",
    "response_dict = json.loads(response.content)\n",
    "\n",
    "# Check the contents of the response\n",
    "assert response_dict['success'] is True  # make sure if response is OK\n",
    "result = response_dict['result']         # extract all the packages from the response\n",
    "#pprint.pprint(result)                    # pretty print the list to the screen\n",
    "\n",
    "# Specify the package you are interested in:\n",
    "package = 'durchschnittlicher-verkaufspreis-von-eigentumswohnungen-nach-zimmerzahl-bezirk-und-jahr-ab-2011'\n",
    "\n",
    "# Base url for package information. This is always the same.\n",
    "base_url = 'https://opendata.swiss/api/3/action/package_show?id='\n",
    "\n",
    "# Construct the url for the package of interest\n",
    "package_information_url = base_url + package\n",
    "\n",
    "# Make the HTTP request\n",
    "package_information = requests.get(package_information_url)\n",
    "\n",
    "# Use the json module to load CKAN's response into a dictionary\n",
    "package_dict = json.loads(package_information.content)\n",
    "\n",
    "# Check the contents of the response.\n",
    "assert package_dict['success'] is True  # again make sure if response is OK\n",
    "package_dict = package_dict['result']   # we only need the 'result' part from the dictionary\n",
    "#pprint.pprint(package_dict)             # pretty print the package information to screen\n",
    "\n",
    "# Get the url for the data from the dictionary\n",
    "data_url = package_dict['resources'][0]['url']\n",
    "print('Data url:     ' + data_url)\n",
    "\n",
    "# Print the data format\n",
    "data_format = package_dict['resources'][0]['format']\n",
    "print('Data format:  ' + data_format)\n",
    "\n",
    "# Check the package information, as done above\n",
    "package_information = requests.get('https://opendata.swiss/api/3/action/package_show?id=durchschnittlicher-verkaufspreis-von-eigentumswohnungen-nach-zimmerzahl-bezirk-und-jahr-ab-2011')\n",
    "package_dict = json.loads(package_information.content)\n",
    "package_dict = package_dict['result']   \n",
    "data_url = package_dict['resources'][0]['url']\n",
    "\n",
    "# List of formats we work with in this exercise\n",
    "csv = ['comma-separated-values', 'CSV', 'csv']\n",
    "tsv = ['tab-separated-values', 'TSV', 'tsv']\n",
    "xls = ['XLS']\n",
    "\n",
    "# Download the data to a Pandas DataFrame. Use seperate function calls, depending on the format of the dataset.\n",
    "if any(s in data_format for s in csv):     # pd.read_csv()\n",
    "    df = pd.read_csv(data_url, sep=';')\n",
    "elif any(s in data_format for s in tsv):   # pd.read_csv() and specify the delimiter\n",
    "    df = pd.read_csv(data_url, sep='\\t')\n",
    "elif any(s in data_format for s in xls):   # pd.read_excel()\n",
    "    df = pd.read_excel(data_url)\n",
    "else:\n",
    "    print('Sorry, the data format is not supported for this exercise')\n",
    "\n",
    "# Print the first rows to the screen to inspect the dataset    \n",
    "df\n",
    "df.set_index('jahr', inplace=True)\n",
    "df.to_csv(\"Preise_Eigentumswohnungen_BL.csv\", sep=';')"
   ]
  }
 ],
 "metadata": {
  "kernelspec": {
   "display_name": "adsenv",
   "language": "python",
   "name": "python3"
  },
  "language_info": {
   "codemirror_mode": {
    "name": "ipython",
    "version": 3
   },
   "file_extension": ".py",
   "mimetype": "text/x-python",
   "name": "python",
   "nbconvert_exporter": "python",
   "pygments_lexer": "ipython3",
   "version": "3.10.9"
  },
  "orig_nbformat": 4
 },
 "nbformat": 4,
 "nbformat_minor": 2
}
