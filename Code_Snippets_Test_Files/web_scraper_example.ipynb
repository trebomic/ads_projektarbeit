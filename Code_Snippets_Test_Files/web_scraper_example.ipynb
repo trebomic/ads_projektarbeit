{
 "cells": [
  {
   "cell_type": "code",
   "execution_count": null,
   "metadata": {},
   "outputs": [],
   "source": [
    "import bs4 as bs\n",
    "import urllib.request\n",
    "import time\n",
    "from datetime import datetime\n",
    "import pandas as pd\n",
    "import json\n",
    "for seite in range(1,3000):\n",
    "    \n",
    "    print(\"Loop \" + str(seite) + \" startet.\")\n",
    "    df = pd.DataFrame()\n",
    "    l=[]\n",
    "    try:\n",
    "        \n",
    "        soup = bs.BeautifulSoup(urllib.request.urlopen(\"https://www.immobilienscout24.de/Suche/S-2/P-\"+str(seite)+\"/Haus-Kauf\").read(),'lxml')\n",
    "        print(\"Aktuelle Seite: \"+\"https://www.immobilienscout24.de/Suche/S-2/P-\"+str(seite)+\"/Haus-Kauf\")\n",
    "        for paragraph in soup.find_all(\"a\"):\n",
    "            if r\"/expose/\" in str(paragraph.get(\"href\")):\n",
    "                l.append(paragraph.get(\"href\").split(\"#\")[0])\n",
    "            l = list(set(l))\n",
    "        for item in l:\n",
    "            try:\n",
    "                soup = bs.BeautifulSoup(urllib.request.urlopen('https://www.immobilienscout24.de'+item).read(),'lxml')\n",
    "                data = pd.DataFrame(json.loads(str(soup.find_all(\"script\")).split(\"keyValues = \")[1].split(\"}\")[0]+str(\"}\")),index=[str(datetime.now())])\n",
    "                data[\"URL\"] = str(item)\n",
    "                beschreibung = []\n",
    "                for i in soup.find_all(\"pre\"):\n",
    "                    beschreibung.append(i.text)\n",
    "                data[\"beschreibung\"] = str(beschreibung)\n",
    "                df = df.append(data)\n",
    "            except Exception as e: \n",
    "                print(str(datetime.now())+\": \" + str(e))\n",
    "                l = list(filter(lambda x: x != item, l))\n",
    "                print(\"ID \" + str(item) + \" entfernt.\")\n",
    "        print(\"Exportiert CSV\")\n",
    "        df.to_csv(\".../rohdaten/\"+str(datetime.now())[:19].replace(\":\",\"\").replace(\".\",\"\")+\".csv\",sep=\";\",decimal=\",\",encoding = \"utf-8\",index_label=\"timestamp\")     \n",
    "        print(\"Loop \" + str(seite) + \" endet.\\n\")\n",
    "        \n",
    "    except Exception as e: \n",
    "        print(str(datetime.now())+\": \" + str(e))\n",
    "print(\"FERTIG!\")"
   ]
  }
 ],
 "metadata": {
  "language_info": {
   "name": "python"
  },
  "orig_nbformat": 4
 },
 "nbformat": 4,
 "nbformat_minor": 2
}
