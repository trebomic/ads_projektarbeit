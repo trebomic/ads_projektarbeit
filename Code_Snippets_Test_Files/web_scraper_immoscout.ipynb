{
 "cells": [
  {
   "cell_type": "code",
   "execution_count": 1,
   "metadata": {},
   "outputs": [],
   "source": [
    "import requests\n",
    "from bs4 import BeautifulSoup\n",
    "\n",
    "url = \"https://www.immoscout24.ch/en/real-estate/rent/country-switzerland-fl\"\n",
    "response = requests.get(url)\n",
    "soup = BeautifulSoup(response.text, \"html.parser\")\n",
    "\n",
    "listings = soup.find_all(\"div\", {\"class\": \"sc-1f2ug0g-1 kYzYVQ\"})\n",
    "\n",
    "for listing in listings:\n",
    "    address = listing.find(\"div\", {\"class\": \"sc-1f2ug0g-3 gVNUkG\"}).text.strip()\n",
    "    price = listing.find(\"div\", {\"class\": \"sc-1f2ug0g-2 cxeIBI\"}).text.strip()\n",
    "    size = listing.find(\"div\", {\"class\": \"sc-1f2ug0g-4 jxhvYa\"}).text.strip()\n",
    "    lat = listing[\"data-lat\"]\n",
    "    long = listing[\"data-lng\"]\n",
    "    \n",
    "    print(f\"Address: {address}\")\n",
    "    print(f\"Price: {price}\")\n",
    "    print(f\"Size: {size}\")\n",
    "    print(f\"Latitude: {lat}\")\n",
    "    print(f\"Longitude: {long}\")"
   ]
  }
 ],
 "metadata": {
  "kernelspec": {
   "display_name": "adsenv",
   "language": "python",
   "name": "python3"
  },
  "language_info": {
   "codemirror_mode": {
    "name": "ipython",
    "version": 3
   },
   "file_extension": ".py",
   "mimetype": "text/x-python",
   "name": "python",
   "nbconvert_exporter": "python",
   "pygments_lexer": "ipython3",
   "version": "3.10.9"
  },
  "orig_nbformat": 4
 },
 "nbformat": 4,
 "nbformat_minor": 2
}
