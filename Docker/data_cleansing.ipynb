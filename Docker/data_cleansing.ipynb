{
 "cells": [
  {
   "cell_type": "markdown",
   "metadata": {},
   "source": [
    "# Imports"
   ]
  },
  {
   "cell_type": "code",
   "execution_count": 1,
   "metadata": {
    "tags": []
   },
   "outputs": [],
   "source": [
    "#Libraries\n",
    "from WebScraperPageCount import WebScraper\n",
    "import pandas as pd\n",
    "import numpy as np\n",
    "import os\n",
    "import fnmatch\n",
    "import tempfile\n",
    "import psycopg2\n",
    "from sqlalchemy import create_engine\n",
    "\n",
    "os.environ['MPLCONFIGDIR'] = \"/home/jovyan\"\n",
    "import matplotlib.pyplot as plt\n",
    "\n"
   ]
  },
  {
   "cell_type": "markdown",
   "metadata": {},
   "source": [
    "## 1. Daten scrapen, Dataframe erstellen"
   ]
  },
  {
   "cell_type": "code",
   "execution_count": null,
   "metadata": {
    "tags": []
   },
   "outputs": [],
   "source": [
    "    dfImmo = WebScraper().runImmo()\n",
    "    dfHome = WebScraper().runHome()\n",
    "\n"
   ]
  },
  {
   "cell_type": "code",
   "execution_count": 3,
   "metadata": {
    "tags": []
   },
   "outputs": [
    {
     "data": {
      "text/html": [
       "<div>\n",
       "<style scoped>\n",
       "    .dataframe tbody tr th:only-of-type {\n",
       "        vertical-align: middle;\n",
       "    }\n",
       "\n",
       "    .dataframe tbody tr th {\n",
       "        vertical-align: top;\n",
       "    }\n",
       "\n",
       "    .dataframe thead th {\n",
       "        text-align: right;\n",
       "    }\n",
       "</style>\n",
       "<table border=\"1\" class=\"dataframe\">\n",
       "  <thead>\n",
       "    <tr style=\"text-align: right;\">\n",
       "      <th></th>\n",
       "      <th>Size</th>\n",
       "      <th>Number of Rooms</th>\n",
       "      <th>Price</th>\n",
       "      <th>Street</th>\n",
       "      <th>Zip Code</th>\n",
       "      <th>City</th>\n",
       "      <th>State</th>\n",
       "    </tr>\n",
       "  </thead>\n",
       "  <tbody>\n",
       "    <tr>\n",
       "      <th>0</th>\n",
       "      <td>108</td>\n",
       "      <td>4.5</td>\n",
       "      <td>2795</td>\n",
       "      <td>Geerenweg 1a</td>\n",
       "      <td>8157</td>\n",
       "      <td>Dielsdorf</td>\n",
       "      <td>Zurich</td>\n",
       "    </tr>\n",
       "    <tr>\n",
       "      <th>1</th>\n",
       "      <td>55</td>\n",
       "      <td>3.5</td>\n",
       "      <td>1360</td>\n",
       "      <td>Gotthelfstrasse 10</td>\n",
       "      <td>3400</td>\n",
       "      <td>Burgdorf</td>\n",
       "      <td>Bern</td>\n",
       "    </tr>\n",
       "    <tr>\n",
       "      <th>2</th>\n",
       "      <td>61</td>\n",
       "      <td>3.5</td>\n",
       "      <td>1450</td>\n",
       "      <td>Gotthelfstrasse 10</td>\n",
       "      <td>3400</td>\n",
       "      <td>Burgdorf</td>\n",
       "      <td>Bern</td>\n",
       "    </tr>\n",
       "    <tr>\n",
       "      <th>3</th>\n",
       "      <td>55</td>\n",
       "      <td>3.5</td>\n",
       "      <td>1390</td>\n",
       "      <td>Gotthelfstrasse 10</td>\n",
       "      <td>3400</td>\n",
       "      <td>Burgdorf</td>\n",
       "      <td>Bern</td>\n",
       "    </tr>\n",
       "    <tr>\n",
       "      <th>4</th>\n",
       "      <td>61</td>\n",
       "      <td>3.5</td>\n",
       "      <td>1510</td>\n",
       "      <td>Gotthelfstrasse 10</td>\n",
       "      <td>3400</td>\n",
       "      <td>Burgdorf</td>\n",
       "      <td>Bern</td>\n",
       "    </tr>\n",
       "  </tbody>\n",
       "</table>\n",
       "</div>"
      ],
      "text/plain": [
       "  Size Number of Rooms Price              Street Zip Code       City   State\n",
       "0  108             4.5  2795        Geerenweg 1a     8157  Dielsdorf  Zurich\n",
       "1   55             3.5  1360  Gotthelfstrasse 10     3400   Burgdorf    Bern\n",
       "2   61             3.5  1450  Gotthelfstrasse 10     3400   Burgdorf    Bern\n",
       "3   55             3.5  1390  Gotthelfstrasse 10     3400   Burgdorf    Bern\n",
       "4   61             3.5  1510  Gotthelfstrasse 10     3400   Burgdorf    Bern"
      ]
     },
     "execution_count": 3,
     "metadata": {},
     "output_type": "execute_result"
    }
   ],
   "source": [
    "dfImmo.head(5)\n",
    "   \n"
   ]
  },
  {
   "cell_type": "code",
   "execution_count": 4,
   "metadata": {
    "tags": []
   },
   "outputs": [
    {
     "data": {
      "text/html": [
       "<div>\n",
       "<style scoped>\n",
       "    .dataframe tbody tr th:only-of-type {\n",
       "        vertical-align: middle;\n",
       "    }\n",
       "\n",
       "    .dataframe tbody tr th {\n",
       "        vertical-align: top;\n",
       "    }\n",
       "\n",
       "    .dataframe thead th {\n",
       "        text-align: right;\n",
       "    }\n",
       "</style>\n",
       "<table border=\"1\" class=\"dataframe\">\n",
       "  <thead>\n",
       "    <tr style=\"text-align: right;\">\n",
       "      <th></th>\n",
       "      <th>Size</th>\n",
       "      <th>Number of Rooms</th>\n",
       "      <th>Price</th>\n",
       "      <th>Street</th>\n",
       "      <th>Zip Code</th>\n",
       "      <th>City</th>\n",
       "    </tr>\n",
       "  </thead>\n",
       "  <tbody>\n",
       "    <tr>\n",
       "      <th>0</th>\n",
       "      <td>84</td>\n",
       "      <td>3.5</td>\n",
       "      <td>3000</td>\n",
       "      <td>None</td>\n",
       "      <td>8952</td>\n",
       "      <td>Schlieren</td>\n",
       "    </tr>\n",
       "    <tr>\n",
       "      <th>1</th>\n",
       "      <td>65</td>\n",
       "      <td>3.5</td>\n",
       "      <td>1700</td>\n",
       "      <td>Gerichtshausstrasse 18</td>\n",
       "      <td>8750</td>\n",
       "      <td>Glarus</td>\n",
       "    </tr>\n",
       "    <tr>\n",
       "      <th>2</th>\n",
       "      <td>95</td>\n",
       "      <td>3.5</td>\n",
       "      <td>2490</td>\n",
       "      <td>Tüfistrasse 21</td>\n",
       "      <td>8107</td>\n",
       "      <td>Buchs ZH</td>\n",
       "    </tr>\n",
       "    <tr>\n",
       "      <th>3</th>\n",
       "      <td>100</td>\n",
       "      <td>4.5</td>\n",
       "      <td>1740</td>\n",
       "      <td>Via Pizzo di Claro 21</td>\n",
       "      <td>6500</td>\n",
       "      <td>Bellinzona</td>\n",
       "    </tr>\n",
       "    <tr>\n",
       "      <th>4</th>\n",
       "      <td>145</td>\n",
       "      <td>6</td>\n",
       "      <td>5500</td>\n",
       "      <td>None</td>\n",
       "      <td>1290</td>\n",
       "      <td>Versoix</td>\n",
       "    </tr>\n",
       "  </tbody>\n",
       "</table>\n",
       "</div>"
      ],
      "text/plain": [
       "  Size Number of Rooms Price                  Street Zip Code        City\n",
       "0   84             3.5  3000                    None     8952   Schlieren\n",
       "1   65             3.5  1700  Gerichtshausstrasse 18     8750      Glarus\n",
       "2   95             3.5  2490          Tüfistrasse 21     8107    Buchs ZH\n",
       "3  100             4.5  1740   Via Pizzo di Claro 21     6500  Bellinzona\n",
       "4  145               6  5500                    None     1290     Versoix"
      ]
     },
     "execution_count": 4,
     "metadata": {},
     "output_type": "execute_result"
    }
   ],
   "source": [
    " dfHome.head(5)\n",
    "\n"
   ]
  },
  {
   "cell_type": "code",
   "execution_count": 5,
   "metadata": {
    "tags": []
   },
   "outputs": [
    {
     "data": {
      "text/html": [
       "<div>\n",
       "<style scoped>\n",
       "    .dataframe tbody tr th:only-of-type {\n",
       "        vertical-align: middle;\n",
       "    }\n",
       "\n",
       "    .dataframe tbody tr th {\n",
       "        vertical-align: top;\n",
       "    }\n",
       "\n",
       "    .dataframe thead th {\n",
       "        text-align: right;\n",
       "    }\n",
       "</style>\n",
       "<table border=\"1\" class=\"dataframe\">\n",
       "  <thead>\n",
       "    <tr style=\"text-align: right;\">\n",
       "      <th></th>\n",
       "      <th>Size</th>\n",
       "      <th>Number of Rooms</th>\n",
       "      <th>Price</th>\n",
       "      <th>Street</th>\n",
       "      <th>Zip Code</th>\n",
       "      <th>City</th>\n",
       "      <th>State</th>\n",
       "    </tr>\n",
       "  </thead>\n",
       "  <tbody>\n",
       "    <tr>\n",
       "      <th>0</th>\n",
       "      <td>108</td>\n",
       "      <td>4.5</td>\n",
       "      <td>2795</td>\n",
       "      <td>Geerenweg 1a</td>\n",
       "      <td>8157</td>\n",
       "      <td>Dielsdorf</td>\n",
       "      <td>Zurich</td>\n",
       "    </tr>\n",
       "    <tr>\n",
       "      <th>1</th>\n",
       "      <td>55</td>\n",
       "      <td>3.5</td>\n",
       "      <td>1360</td>\n",
       "      <td>Gotthelfstrasse 10</td>\n",
       "      <td>3400</td>\n",
       "      <td>Burgdorf</td>\n",
       "      <td>Bern</td>\n",
       "    </tr>\n",
       "    <tr>\n",
       "      <th>2</th>\n",
       "      <td>61</td>\n",
       "      <td>3.5</td>\n",
       "      <td>1450</td>\n",
       "      <td>Gotthelfstrasse 10</td>\n",
       "      <td>3400</td>\n",
       "      <td>Burgdorf</td>\n",
       "      <td>Bern</td>\n",
       "    </tr>\n",
       "    <tr>\n",
       "      <th>3</th>\n",
       "      <td>55</td>\n",
       "      <td>3.5</td>\n",
       "      <td>1390</td>\n",
       "      <td>Gotthelfstrasse 10</td>\n",
       "      <td>3400</td>\n",
       "      <td>Burgdorf</td>\n",
       "      <td>Bern</td>\n",
       "    </tr>\n",
       "    <tr>\n",
       "      <th>4</th>\n",
       "      <td>61</td>\n",
       "      <td>3.5</td>\n",
       "      <td>1510</td>\n",
       "      <td>Gotthelfstrasse 10</td>\n",
       "      <td>3400</td>\n",
       "      <td>Burgdorf</td>\n",
       "      <td>Bern</td>\n",
       "    </tr>\n",
       "  </tbody>\n",
       "</table>\n",
       "</div>"
      ],
      "text/plain": [
       "  Size Number of Rooms Price              Street Zip Code       City   State\n",
       "0  108             4.5  2795        Geerenweg 1a     8157  Dielsdorf  Zurich\n",
       "1   55             3.5  1360  Gotthelfstrasse 10     3400   Burgdorf    Bern\n",
       "2   61             3.5  1450  Gotthelfstrasse 10     3400   Burgdorf    Bern\n",
       "3   55             3.5  1390  Gotthelfstrasse 10     3400   Burgdorf    Bern\n",
       "4   61             3.5  1510  Gotthelfstrasse 10     3400   Burgdorf    Bern"
      ]
     },
     "execution_count": 5,
     "metadata": {},
     "output_type": "execute_result"
    }
   ],
   "source": [
    "data = pd.concat([dfImmo, dfHome])\n",
    "data.head(5)\n",
    "\n",
    "\n"
   ]
  },
  {
   "cell_type": "code",
   "execution_count": null,
   "metadata": {
    "tags": []
   },
   "outputs": [],
   "source": [
    "with pd.option_context('display.max_rows', None, 'display.max_columns', None):\n",
    "   display(data)"
   ]
  },
  {
   "cell_type": "code",
   "execution_count": 7,
   "metadata": {
    "tags": []
   },
   "outputs": [],
   "source": [
    "data.to_excel('Output.xlsx', index=False)"
   ]
  },
  {
   "cell_type": "markdown",
   "metadata": {},
   "source": [
    "## 2. Datenbereinigung"
   ]
  },
  {
   "cell_type": "code",
   "execution_count": 8,
   "metadata": {
    "tags": []
   },
   "outputs": [
    {
     "data": {
      "text/html": [
       "<div>\n",
       "<style scoped>\n",
       "    .dataframe tbody tr th:only-of-type {\n",
       "        vertical-align: middle;\n",
       "    }\n",
       "\n",
       "    .dataframe tbody tr th {\n",
       "        vertical-align: top;\n",
       "    }\n",
       "\n",
       "    .dataframe thead th {\n",
       "        text-align: right;\n",
       "    }\n",
       "</style>\n",
       "<table border=\"1\" class=\"dataframe\">\n",
       "  <thead>\n",
       "    <tr style=\"text-align: right;\">\n",
       "      <th></th>\n",
       "      <th>Size</th>\n",
       "      <th>Number of Rooms</th>\n",
       "      <th>Price</th>\n",
       "      <th>Street</th>\n",
       "      <th>Zip Code</th>\n",
       "      <th>City</th>\n",
       "      <th>State</th>\n",
       "    </tr>\n",
       "  </thead>\n",
       "  <tbody>\n",
       "    <tr>\n",
       "      <th>count</th>\n",
       "      <td>7998</td>\n",
       "      <td>7998</td>\n",
       "      <td>7998</td>\n",
       "      <td>7998</td>\n",
       "      <td>7998</td>\n",
       "      <td>7998</td>\n",
       "      <td>1008</td>\n",
       "    </tr>\n",
       "    <tr>\n",
       "      <th>unique</th>\n",
       "      <td>259</td>\n",
       "      <td>28</td>\n",
       "      <td>941</td>\n",
       "      <td>6078</td>\n",
       "      <td>1450</td>\n",
       "      <td>1528</td>\n",
       "      <td>25</td>\n",
       "    </tr>\n",
       "    <tr>\n",
       "      <th>top</th>\n",
       "      <td>None</td>\n",
       "      <td>3.5</td>\n",
       "      <td>1500</td>\n",
       "      <td>None</td>\n",
       "      <td>6900</td>\n",
       "      <td>Basel</td>\n",
       "      <td>Bern</td>\n",
       "    </tr>\n",
       "    <tr>\n",
       "      <th>freq</th>\n",
       "      <td>1109</td>\n",
       "      <td>2245</td>\n",
       "      <td>112</td>\n",
       "      <td>554</td>\n",
       "      <td>158</td>\n",
       "      <td>358</td>\n",
       "      <td>255</td>\n",
       "    </tr>\n",
       "  </tbody>\n",
       "</table>\n",
       "</div>"
      ],
      "text/plain": [
       "        Size Number of Rooms Price Street Zip Code   City State\n",
       "count   7998            7998  7998   7998     7998   7998  1008\n",
       "unique   259              28   941   6078     1450   1528    25\n",
       "top     None             3.5  1500   None     6900  Basel  Bern\n",
       "freq    1109            2245   112    554      158    358   255"
      ]
     },
     "execution_count": 8,
     "metadata": {},
     "output_type": "execute_result"
    }
   ],
   "source": [
    "data.describe()"
   ]
  },
  {
   "cell_type": "markdown",
   "metadata": {},
   "source": [
    "#### 2.1 Leere und falsche Adresseinträge auf NaN setzen"
   ]
  },
  {
   "cell_type": "code",
   "execution_count": 9,
   "metadata": {
    "tags": []
   },
   "outputs": [],
   "source": [
    "data['Street'].isnull().sum()\n",
    "data_work = data\n",
    "data_work['Street'].replace('', np.nan, inplace=True)\n",
    "data_work['Street'].replace('None', np.nan, inplace=True)\n",
    "data_work['Street'].replace('.', np.nan, inplace=True)\n",
    "data_work['Street'].replace('44', np.nan, inplace=True)\n",
    "data_work['Street'].replace('70', np.nan, inplace=True)\n",
    "data_work['Price'].replace('None', np.nan, inplace=True)"
   ]
  },
  {
   "cell_type": "code",
   "execution_count": 10,
   "metadata": {
    "tags": []
   },
   "outputs": [
    {
     "data": {
      "text/html": [
       "<div>\n",
       "<style scoped>\n",
       "    .dataframe tbody tr th:only-of-type {\n",
       "        vertical-align: middle;\n",
       "    }\n",
       "\n",
       "    .dataframe tbody tr th {\n",
       "        vertical-align: top;\n",
       "    }\n",
       "\n",
       "    .dataframe thead th {\n",
       "        text-align: right;\n",
       "    }\n",
       "</style>\n",
       "<table border=\"1\" class=\"dataframe\">\n",
       "  <thead>\n",
       "    <tr style=\"text-align: right;\">\n",
       "      <th></th>\n",
       "      <th>Size</th>\n",
       "      <th>Number of Rooms</th>\n",
       "      <th>Price</th>\n",
       "      <th>Street</th>\n",
       "      <th>Zip Code</th>\n",
       "      <th>City</th>\n",
       "      <th>State</th>\n",
       "    </tr>\n",
       "  </thead>\n",
       "  <tbody>\n",
       "    <tr>\n",
       "      <th>count</th>\n",
       "      <td>7998</td>\n",
       "      <td>7998</td>\n",
       "      <td>7907</td>\n",
       "      <td>7426</td>\n",
       "      <td>7998</td>\n",
       "      <td>7998</td>\n",
       "      <td>1008</td>\n",
       "    </tr>\n",
       "    <tr>\n",
       "      <th>unique</th>\n",
       "      <td>259</td>\n",
       "      <td>28</td>\n",
       "      <td>940</td>\n",
       "      <td>6073</td>\n",
       "      <td>1450</td>\n",
       "      <td>1528</td>\n",
       "      <td>25</td>\n",
       "    </tr>\n",
       "    <tr>\n",
       "      <th>top</th>\n",
       "      <td>None</td>\n",
       "      <td>3.5</td>\n",
       "      <td>1500</td>\n",
       "      <td>Seestrasse 119/121</td>\n",
       "      <td>6900</td>\n",
       "      <td>Basel</td>\n",
       "      <td>Bern</td>\n",
       "    </tr>\n",
       "    <tr>\n",
       "      <th>freq</th>\n",
       "      <td>1109</td>\n",
       "      <td>2245</td>\n",
       "      <td>112</td>\n",
       "      <td>13</td>\n",
       "      <td>158</td>\n",
       "      <td>358</td>\n",
       "      <td>255</td>\n",
       "    </tr>\n",
       "  </tbody>\n",
       "</table>\n",
       "</div>"
      ],
      "text/plain": [
       "        Size Number of Rooms Price              Street Zip Code   City State\n",
       "count   7998            7998  7907                7426     7998   7998  1008\n",
       "unique   259              28   940                6073     1450   1528    25\n",
       "top     None             3.5  1500  Seestrasse 119/121     6900  Basel  Bern\n",
       "freq    1109            2245   112                  13      158    358   255"
      ]
     },
     "execution_count": 10,
     "metadata": {},
     "output_type": "execute_result"
    }
   ],
   "source": [
    "data_work.describe()"
   ]
  },
  {
   "cell_type": "markdown",
   "metadata": {},
   "source": [
    "#### 2.2 Nan Einträge löschen"
   ]
  },
  {
   "cell_type": "code",
   "execution_count": 11,
   "metadata": {
    "tags": []
   },
   "outputs": [],
   "source": [
    "data_work.dropna(subset=['Street','Price'], inplace=True)"
   ]
  },
  {
   "cell_type": "code",
   "execution_count": 12,
   "metadata": {
    "tags": []
   },
   "outputs": [
    {
     "data": {
      "text/html": [
       "<div>\n",
       "<style scoped>\n",
       "    .dataframe tbody tr th:only-of-type {\n",
       "        vertical-align: middle;\n",
       "    }\n",
       "\n",
       "    .dataframe tbody tr th {\n",
       "        vertical-align: top;\n",
       "    }\n",
       "\n",
       "    .dataframe thead th {\n",
       "        text-align: right;\n",
       "    }\n",
       "</style>\n",
       "<table border=\"1\" class=\"dataframe\">\n",
       "  <thead>\n",
       "    <tr style=\"text-align: right;\">\n",
       "      <th></th>\n",
       "      <th>Size</th>\n",
       "      <th>Number of Rooms</th>\n",
       "      <th>Price</th>\n",
       "      <th>Street</th>\n",
       "      <th>Zip Code</th>\n",
       "      <th>City</th>\n",
       "      <th>State</th>\n",
       "    </tr>\n",
       "  </thead>\n",
       "  <tbody>\n",
       "    <tr>\n",
       "      <th>count</th>\n",
       "      <td>7343</td>\n",
       "      <td>7343</td>\n",
       "      <td>7343</td>\n",
       "      <td>7343</td>\n",
       "      <td>7343</td>\n",
       "      <td>7343</td>\n",
       "      <td>932</td>\n",
       "    </tr>\n",
       "    <tr>\n",
       "      <th>unique</th>\n",
       "      <td>240</td>\n",
       "      <td>23</td>\n",
       "      <td>916</td>\n",
       "      <td>6001</td>\n",
       "      <td>1333</td>\n",
       "      <td>1403</td>\n",
       "      <td>25</td>\n",
       "    </tr>\n",
       "    <tr>\n",
       "      <th>top</th>\n",
       "      <td>None</td>\n",
       "      <td>3.5</td>\n",
       "      <td>1650</td>\n",
       "      <td>Seestrasse 119/121</td>\n",
       "      <td>9000</td>\n",
       "      <td>Basel</td>\n",
       "      <td>Bern</td>\n",
       "    </tr>\n",
       "    <tr>\n",
       "      <th>freq</th>\n",
       "      <td>1026</td>\n",
       "      <td>2100</td>\n",
       "      <td>97</td>\n",
       "      <td>13</td>\n",
       "      <td>138</td>\n",
       "      <td>345</td>\n",
       "      <td>248</td>\n",
       "    </tr>\n",
       "  </tbody>\n",
       "</table>\n",
       "</div>"
      ],
      "text/plain": [
       "        Size Number of Rooms Price              Street Zip Code   City State\n",
       "count   7343            7343  7343                7343     7343   7343   932\n",
       "unique   240              23   916                6001     1333   1403    25\n",
       "top     None             3.5  1650  Seestrasse 119/121     9000  Basel  Bern\n",
       "freq    1026            2100    97                  13      138    345   248"
      ]
     },
     "execution_count": 12,
     "metadata": {},
     "output_type": "execute_result"
    }
   ],
   "source": [
    "data_work.describe()"
   ]
  },
  {
   "cell_type": "markdown",
   "metadata": {},
   "source": [
    "#### 2.3 Duplikate anhand von Adresse und Preis entfernen"
   ]
  },
  {
   "cell_type": "code",
   "execution_count": 13,
   "metadata": {
    "tags": []
   },
   "outputs": [
    {
     "data": {
      "text/html": [
       "<div>\n",
       "<style scoped>\n",
       "    .dataframe tbody tr th:only-of-type {\n",
       "        vertical-align: middle;\n",
       "    }\n",
       "\n",
       "    .dataframe tbody tr th {\n",
       "        vertical-align: top;\n",
       "    }\n",
       "\n",
       "    .dataframe thead th {\n",
       "        text-align: right;\n",
       "    }\n",
       "</style>\n",
       "<table border=\"1\" class=\"dataframe\">\n",
       "  <thead>\n",
       "    <tr style=\"text-align: right;\">\n",
       "      <th></th>\n",
       "      <th>Size</th>\n",
       "      <th>Number of Rooms</th>\n",
       "      <th>Price</th>\n",
       "      <th>Street</th>\n",
       "      <th>Zip Code</th>\n",
       "      <th>City</th>\n",
       "      <th>State</th>\n",
       "    </tr>\n",
       "  </thead>\n",
       "  <tbody>\n",
       "    <tr>\n",
       "      <th>count</th>\n",
       "      <td>6861</td>\n",
       "      <td>6861</td>\n",
       "      <td>6861</td>\n",
       "      <td>6861</td>\n",
       "      <td>6861</td>\n",
       "      <td>6861</td>\n",
       "      <td>921</td>\n",
       "    </tr>\n",
       "    <tr>\n",
       "      <th>unique</th>\n",
       "      <td>239</td>\n",
       "      <td>23</td>\n",
       "      <td>916</td>\n",
       "      <td>6001</td>\n",
       "      <td>1333</td>\n",
       "      <td>1397</td>\n",
       "      <td>25</td>\n",
       "    </tr>\n",
       "    <tr>\n",
       "      <th>top</th>\n",
       "      <td>None</td>\n",
       "      <td>3.5</td>\n",
       "      <td>1500</td>\n",
       "      <td>Höhenweg 18</td>\n",
       "      <td>9000</td>\n",
       "      <td>Basel</td>\n",
       "      <td>Bern</td>\n",
       "    </tr>\n",
       "    <tr>\n",
       "      <th>freq</th>\n",
       "      <td>989</td>\n",
       "      <td>1955</td>\n",
       "      <td>95</td>\n",
       "      <td>7</td>\n",
       "      <td>128</td>\n",
       "      <td>327</td>\n",
       "      <td>248</td>\n",
       "    </tr>\n",
       "  </tbody>\n",
       "</table>\n",
       "</div>"
      ],
      "text/plain": [
       "        Size Number of Rooms Price       Street Zip Code   City State\n",
       "count   6861            6861  6861         6861     6861   6861   921\n",
       "unique   239              23   916         6001     1333   1397    25\n",
       "top     None             3.5  1500  Höhenweg 18     9000  Basel  Bern\n",
       "freq     989            1955    95            7      128    327   248"
      ]
     },
     "execution_count": 13,
     "metadata": {},
     "output_type": "execute_result"
    }
   ],
   "source": [
    "data_cleansed = data_work.drop_duplicates(subset=['Price', 'Street'])\n",
    "data_cleansed.describe()"
   ]
  },
  {
   "cell_type": "code",
   "execution_count": null,
   "metadata": {
    "tags": []
   },
   "outputs": [],
   "source": [
    "with pd.option_context('display.max_rows', None, 'display.max_columns', None):\n",
    "   display(data_cleansed)"
   ]
  },
  {
   "cell_type": "markdown",
   "metadata": {},
   "source": [
    "## 3. Datenbank"
   ]
  },
  {
   "cell_type": "markdown",
   "metadata": {},
   "source": [
    "#### 3.1 Verbindung zu Datenbank herstellen"
   ]
  },
  {
   "cell_type": "code",
   "execution_count": 45,
   "metadata": {
    "tags": []
   },
   "outputs": [],
   "source": [
    "conn = psycopg2.connect(\"host=db dbname=ads_project_db user=admin password=secret\")"
   ]
  },
  {
   "cell_type": "markdown",
   "metadata": {},
   "source": [
    "#### 3.2 Bereinigte Daten in Datenbank schreiben"
   ]
  },
  {
   "cell_type": "code",
   "execution_count": 46,
   "metadata": {
    "tags": []
   },
   "outputs": [
    {
     "data": {
      "text/plain": [
       "861"
      ]
     },
     "execution_count": 46,
     "metadata": {},
     "output_type": "execute_result"
    }
   ],
   "source": [
    "engine = create_engine('postgresql://admin:secret@db:5432/ads_project_db')\n",
    "data_cleansed.to_sql('immo_data', engine, if_exists='replace')"
   ]
  },
  {
   "cell_type": "markdown",
   "metadata": {},
   "source": [
    "#### 3.3 SQL Abfrage"
   ]
  },
  {
   "cell_type": "code",
   "execution_count": 54,
   "metadata": {
    "tags": []
   },
   "outputs": [
    {
     "name": "stdout",
     "output_type": "stream",
     "text": [
      "     Size Number of Rooms Price              Street Zip Code        City   \n",
      "0     108             4.5  2795        Geerenweg 1a     8157   Dielsdorf  \\\n",
      "1      55             3.5  1360  Gotthelfstrasse 10     3400    Burgdorf   \n",
      "2      61             3.5  1450  Gotthelfstrasse 10     3400    Burgdorf   \n",
      "3      55             3.5  1390  Gotthelfstrasse 10     3400    Burgdorf   \n",
      "4      61             3.5  1510  Gotthelfstrasse 10     3400    Burgdorf   \n",
      "...   ...             ...   ...                 ...      ...         ...   \n",
      "6856   63             3.5  1420        Vy d'Etra 35     2000   Neuchâtel   \n",
      "6857   63             3.5  1380        Vy d'Etra 35     2000   Neuchâtel   \n",
      "6858   63             3.5  1330        Vy d'Etra 35     2000   Neuchâtel   \n",
      "6859  107             4.5  2090     Wiesenstrasse 4     5412  Gebenstorf   \n",
      "6860   47               2  1190    Frobenstrasse 66     4053       Basel   \n",
      "\n",
      "       State  \n",
      "0     Zurich  \n",
      "1       Bern  \n",
      "2       Bern  \n",
      "3       Bern  \n",
      "4       Bern  \n",
      "...      ...  \n",
      "6856    None  \n",
      "6857    None  \n",
      "6858    None  \n",
      "6859    None  \n",
      "6860    None  \n",
      "\n",
      "[6861 rows x 7 columns]\n"
     ]
    },
    {
     "name": "stderr",
     "output_type": "stream",
     "text": [
      "/tmp/ipykernel_4936/3766181494.py:1: UserWarning: pandas only supports SQLAlchemy connectable (engine/connection) or database string URI or sqlite3 DBAPI2 connection. Other DBAPI2 objects are not tested. Please consider using SQLAlchemy.\n",
      "  my_table    = pd.read_sql('''select\n"
     ]
    }
   ],
   "source": [
    "my_table    = pd.read_sql('''select \n",
    "                          \"Size\",\n",
    "                          \"Number of Rooms\",\n",
    "                          \"Price\",\n",
    "                          \"Street\",\n",
    "                          \"Zip Code\",\n",
    "                          \"City\",\n",
    "                          \"State\"                   \n",
    "                          from immo_data''', conn)\n",
    "print (my_table)"
   ]
  },
  {
   "cell_type": "code",
   "execution_count": null,
   "metadata": {},
   "outputs": [],
   "source": []
  }
 ],
 "metadata": {
  "kernelspec": {
   "display_name": "Python 3 (ipykernel)",
   "language": "python",
   "name": "python3"
  },
  "language_info": {
   "codemirror_mode": {
    "name": "ipython",
    "version": 3
   },
   "file_extension": ".py",
   "mimetype": "text/x-python",
   "name": "python",
   "nbconvert_exporter": "python",
   "pygments_lexer": "ipython3",
   "version": "3.10.10"
  }
 },
 "nbformat": 4,
 "nbformat_minor": 4
}
